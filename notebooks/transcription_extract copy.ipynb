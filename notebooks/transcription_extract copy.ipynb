{
 "cells": [
  {
   "cell_type": "code",
   "execution_count": 45,
   "metadata": {},
   "outputs": [],
   "source": [
    "import os\n",
    "import json\n",
    "from youtube_transcript_api import YouTubeTranscriptApi\n",
    "\n",
    "\n",
    "# Expand the ~ to the user's home directory\n",
    "file_path = os.path.expanduser(\n",
    "    \"../data/external/transcript.json\"\n",
    ")\n",
    "video_id = \"Kbk9BiPhm7o\"\n",
    "podcast_name = \"Elon Musk: Neuralink and the Future of Humanity | Lex Fridman Podcast\"\n",
    "\n",
    "# Create directories if they don't exist\n",
    "os.makedirs(os.path.dirname(file_path), exist_ok=True)"
   ]
  },
  {
   "cell_type": "code",
   "execution_count": 53,
   "metadata": {},
   "outputs": [],
   "source": [
    "def get_transcript(video_id):\n",
    "    try:\n",
    "        # Retrieve the transcript for the given video ID\n",
    "        transcript = YouTubeTranscriptApi.get_transcript(video_id)\n",
    "        return transcript\n",
    "    except Exception as e:\n",
    "        print(f\"Error retrieving transcript: {e}\")\n",
    "        return None\n",
    "\n",
    "transcript = get_transcript(video_id)\n",
    "\n",
    "\n",
    "def convert_time(seconds):\n",
    "    hours = seconds // 3600\n",
    "    minutes = (seconds % 3600) // 60\n",
    "    seconds = seconds % 60\n",
    "    return f\"{hours:02d}:{minutes:02d}:{seconds:02d}\"\n",
    "\n",
    "\n",
    "def process_transcript(data, podcast_name: str):\n",
    "    merged_data = []\n",
    "    batch_size = 20\n",
    "\n",
    "    for i in range(0, len(data), batch_size):\n",
    "        batch = data[i : i + batch_size]\n",
    "        merged_dict = {\n",
    "            \"podcast_name\": podcast_name,\n",
    "            \"text\": \" \".join([d[\"text\"] for d in batch]),\n",
    "            \"start\": convert_time(int(batch[0][\"start\"])),\n",
    "        }\n",
    "        merged_data.append(merged_dict)\n",
    "\n",
    "    return merged_data"
   ]
  },
  {
   "cell_type": "code",
   "execution_count": 55,
   "metadata": {},
   "outputs": [],
   "source": [
    "transcript = get_transcript(video_id)\n",
    "modified_transcript = process_transcript(transcript, podcast_name)"
   ]
  },
  {
   "cell_type": "code",
   "execution_count": 48,
   "metadata": {},
   "outputs": [
    {
     "data": {
      "text/plain": [
       "649"
      ]
     },
     "execution_count": 48,
     "metadata": {},
     "output_type": "execute_result"
    }
   ],
   "source": [
    "len(modified_transcript)"
   ]
  },
  {
   "cell_type": "code",
   "execution_count": 56,
   "metadata": {},
   "outputs": [],
   "source": [
    "# Write to the file\n",
    "with open(file_path, \"w\") as f:\n",
    "    json.dump(modified_transcript, f, indent=4, ensure_ascii=False)\n"
   ]
  },
  {
   "cell_type": "code",
   "execution_count": 52,
   "metadata": {},
   "outputs": [
    {
     "name": "stdout",
     "output_type": "stream",
     "text": [
      "[\n",
      "    {\n",
      "        \"text\": \"the following is a conversation with Elon Musk DJ sa Matthew McDougall Bliss Chapman and Nolan arbaugh about neuralink and the future of humanity Elon DJ Matthew and Bliss are of course part of the amazing neuralink team and Nolan is the first human to have a neuralink device implanted in his brain I speak with each of them individually so use time stamps to jump around or as I recommend go hardcore and listen to the whole thing this is the longest podcast I've ever done it's a fascinating super technical and wide- ranging conversation and I loved every minute of it and now dear friends here's Elon Musk his fifth time on this The Lex fredman podcast drinking coffee or water water I'm so over caffeinated right now\",\n",
      "        \"start\": \"00:00:00\"\n",
      "    },\n",
      "    {\n",
      "        \"text\": \"do you want some caffeine I mean sure there's a there a Nitro drink this supposed to keep you up till like you know tomorrow afternoon basically yeah I don't so what does Nitro it's just got a lot of caffeine or something don't ask questions it's called Nitro do you need to know anything else it's got It's got nitrogen in it that's ridiculous I mean what we breathe is 78% nitrogen anyway what he needs to add more for you're going toat it most most people think that they're breathing oxygen and they're actually breathing 78% nitrogen you need like a Milk Bar like from like from cluck orange yeah yeah is that top three kubri film for you cluck Orange it's pretty good I\",\n",
      "        \"start\": \"00:00:55\"\n",
      "    },\n",
      "    {\n"
     ]
    }
   ],
   "source": [
    "!head ../data/external/transcript.json"
   ]
  }
 ],
 "metadata": {
  "kernelspec": {
   "display_name": "llm-zoomcamp-project",
   "language": "python",
   "name": "python3"
  },
  "language_info": {
   "codemirror_mode": {
    "name": "ipython",
    "version": 3
   },
   "file_extension": ".py",
   "mimetype": "text/x-python",
   "name": "python",
   "nbconvert_exporter": "python",
   "pygments_lexer": "ipython3",
   "version": "3.12.5"
  }
 },
 "nbformat": 4,
 "nbformat_minor": 2
}
