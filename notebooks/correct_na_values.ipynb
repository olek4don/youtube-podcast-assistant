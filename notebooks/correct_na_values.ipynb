{
 "cells": [
  {
   "cell_type": "code",
   "execution_count": 4,
   "metadata": {},
   "outputs": [
    {
     "data": {
      "text/plain": [
       "True"
      ]
     },
     "execution_count": 4,
     "metadata": {},
     "output_type": "execute_result"
    }
   ],
   "source": [
    "# %%\n",
    "from openai import OpenAI\n",
    "from dotenv import load_dotenv\n",
    "import json\n",
    "\n",
    "client = OpenAI()\n",
    "# Load environment variables from a .env file\n",
    "load_dotenv()\n",
    "\n",
    "# Set the OpenAI API key environment variable\n",
    "# os.environ[\"OPENAI_API_KEY\"] = os.getenv(\"OPENAI_API_KEY\")\n",
    "\n"
   ]
  },
  {
   "cell_type": "code",
   "execution_count": 5,
   "metadata": {},
   "outputs": [],
   "source": [
    "# %%\n",
    "def build_prompt(context: str) -> str:\n",
    "    prompt_template = \"\"\"You are a proffesional podcast assistant creating a test for advanced listeners. For each context, create a question that is specific to the context. Avoid creating generic or general questions.\n",
    "\n",
    "question: a question about the context.\n",
    "\n",
    "Format the output as JSON with the following keys:\n",
    "question\n",
    "\n",
    "context: {context}\"\"\".strip()\n",
    "\n",
    "    prompt = prompt_template.format(context=context).strip()\n",
    "    return prompt\n",
    "\n",
    "\n",
    "def llm(prompt):\n",
    "    response = client.chat.completions.create(\n",
    "        model=\"gpt-4o-mini\", messages=[{\"role\": \"user\", \"content\": prompt}]\n",
    "    )\n",
    "\n",
    "    return response.choices[0].message.content\n",
    "\n",
    "\n",
    "def rag(context: str):\n",
    "    prompt = build_prompt(context)\n",
    "    answer = llm(prompt)\n",
    "    return json.loads(answer)\n",
    "\n",
    "\n",
    "def add_qa_to_transcripts(transcripts):\n",
    "    \"\"\"Add a \"question\" and \"answer\" prepared by llm to each transcript in the list of transcripts\"\"\"\n",
    "    new_transcripts = []\n",
    "    for transcript in transcripts:\n",
    "        new_qa = rag(transcript[\"text\"])\n",
    "        new_transcript = {**transcript, **new_qa}\n",
    "        new_transcripts.append(new_transcript)\n",
    "    return new_transcripts\n",
    "\n"
   ]
  },
  {
   "cell_type": "code",
   "execution_count": 6,
   "metadata": {},
   "outputs": [],
   "source": [
    "# %%\n",
    "\n",
    "\n",
    "with open(\"../data/external/transcript_qna.json\", \"r\") as f:\n",
    "    data = json.load(f)\n",
    "\n",
    "\n",
    "def update_answer(data):\n",
    "    for d in data:\n",
    "        if d[\"answer\"] == \"NA\":\n",
    "            context = d[\"text\"]\n",
    "            new_answer = rag(context)\n",
    "            d[\"answer\"] = new_answer\n",
    "    return data\n",
    "\n"
   ]
  },
  {
   "cell_type": "code",
   "execution_count": null,
   "metadata": {},
   "outputs": [],
   "source": [
    "# %%\n",
    "test_transcript = test_transcripts[0][\"text\"]\n",
    "\n",
    "test_rag = rag(test_transcript)"
   ]
  },
  {
   "cell_type": "code",
   "execution_count": null,
   "metadata": {},
   "outputs": [],
   "source": [
    "# %%\n",
    "transcripts_with_qa = add_qa_to_transcripts(transcripts)\n",
    "for t in transcripts_with_qa:\n",
    "    print(json.dumps(t, indent=4), end=\"\\n\\n\")\n"
   ]
  },
  {
   "cell_type": "code",
   "execution_count": null,
   "metadata": {},
   "outputs": [],
   "source": [
    "# %%\n",
    "\n",
    "with open(\"../data/external/transcript_qna.json\", \"r\") as f:\n",
    "    to_replace = json.load(f)\n"
   ]
  }
 ],
 "metadata": {
  "kernelspec": {
   "display_name": "llm-zoomcamp-project",
   "language": "python",
   "name": "python3"
  },
  "language_info": {
   "codemirror_mode": {
    "name": "ipython",
    "version": 3
   },
   "file_extension": ".py",
   "mimetype": "text/x-python",
   "name": "python",
   "nbconvert_exporter": "python",
   "pygments_lexer": "ipython3",
   "version": "3.12.5"
  }
 },
 "nbformat": 4,
 "nbformat_minor": 2
}
